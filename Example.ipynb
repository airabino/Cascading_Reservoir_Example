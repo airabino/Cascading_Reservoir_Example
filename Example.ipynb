{
 "cells": [
  {
   "cell_type": "code",
   "execution_count": 1,
   "id": "1d24310a-ef7c-4df9-95d0-87fe85b9b87b",
   "metadata": {},
   "outputs": [],
   "source": [
    "import os\n",
    "import time\n",
    "import numpy as np\n",
    "import pandas as pd\n",
    "import pickle as pkl\n",
    "import pyomo.environ as pyomo\n",
    "import matplotlib.pyplot as plt\n",
    "\n",
    "import src\n",
    "from src.reload import deep_reload\n",
    "\n",
    "#Change this to point to your version of cbc or use another solver\n",
    "solver_kwargs={'_name': 'cbc', 'executable': 'src/cbc'}"
   ]
  },
  {
   "cell_type": "code",
   "execution_count": 2,
   "id": "8c0ff178-cc1a-4991-ad38-86f5227873b8",
   "metadata": {
    "tags": []
   },
   "outputs": [
    {
     "name": "stdout",
     "output_type": "stream",
     "text": [
      "12.380744275 0.012818336486816406 0.10673999786376953\n"
     ]
    }
   ],
   "source": [
    "deep_reload(src)\n",
    "'''\n",
    "Solving the CHRP\n",
    "\n",
    "reservoirs will be said to have around 10 hydro units of capacity\n",
    "reservoir lower bounds will be around 5 hydro units\n",
    "reservoir upper bounds will be around 9 hydro units\n",
    "generator and pump operating ranges will be in the range of 1 to 2 hydro unit per hour\n",
    "transmission cost to purchase will be around 1 cost unit per power unit\n",
    "transmission cost to sell will be around -0.8 cost unit per power unit\n",
    "rainfall will be around 0.1 hydro units per hour\n",
    "power demand will be around 1 power units per hour\n",
    "'''\n",
    "\n",
    "n = 5 #reservoirs\n",
    "m = 24 #hours\n",
    "\n",
    "inputs={\n",
    "    'n_r': n,\n",
    "    'n_t': m,\n",
    "    'c_tp': np.ones((m,)) * 1 + np.random.rand(m) * 0,\n",
    "    'c_ts': -(np.ones((m,)) * .8 + np.random.rand(m) * 0),\n",
    "    'y_e': np.ones((m,)) * 1 + np.random.rand(m) * .1,\n",
    "    'y_f': np.ones((m, n)) * .1 + np.random.rand(m, n) * .01,\n",
    "    'lb': np.ones((n,)) * 5 + np.random.rand(n) * 0,\n",
    "    'ub': np.ones((n,)) * 9 + np.random.rand(n) * 0,\n",
    "    'fs': np.ones((n,)) * 7 + np.random.rand(n) * 0,\n",
    "    'is': np.ones((n,)) * 7 + np.random.rand(n) * 0,\n",
    "    'f_g_min': np.ones((n,)) * 1 + np.random.rand(n) * 0,\n",
    "    'f_g_max': np.ones((n,)) * 2 + np.random.rand(n) * 0,\n",
    "    'f_p_min': np.ones((n,)) * 1 + np.random.rand(n) * 0,\n",
    "    'f_p_max': np.ones((n,)) * 2 + np.random.rand(n) * 0,\n",
    "    'tp_max': 10,\n",
    "    'ts_max': 10,\n",
    "}\n",
    "\n",
    "t0 = time.time()\n",
    "problem = src.optimization.CHRP(inputs)\n",
    "\n",
    "t1 = time.time()\n",
    "problem.Solve(solver_kwargs)\n",
    "\n",
    "t2 = time.time()\n",
    "\n",
    "print(problem.model.objective(), t1 - t0, t2 - t1)"
   ]
  },
  {
   "cell_type": "code",
   "execution_count": 3,
   "id": "ecfb8cf8-c726-4f17-a509-e2925f5e5a97",
   "metadata": {
    "tags": []
   },
   "outputs": [
    {
     "name": "stdout",
     "output_type": "stream",
     "text": [
      "12.574134499799998 0.029927968978881836 1.7912776470184326\n"
     ]
    }
   ],
   "source": [
    "deep_reload(src)\n",
    "'''\n",
    "Solving the S-CHRP\n",
    "\n",
    "reservoirs will be said to have around 10 hydro units of capacity\n",
    "reservoir lower bounds will be around 5 hydro units\n",
    "reservoir upper bounds will be around 9 hydro units\n",
    "generator and pump operating ranges will be in the range of 1 to 2 hydro unit per hour\n",
    "transmission cost to purchase will be around 1 cost unit per power unit\n",
    "transmission cost to sell will be around -0.8 cost unit per power unit\n",
    "rainfall will be around 0.1 hydro units per hour\n",
    "power demand will be around 1 power units per hour\n",
    "\n",
    "In this scenario several discrete scenarios will be stochastically optimized for.\n",
    "Stochastic exogenous inputs will be rainfall and demand power\n",
    "'''\n",
    "\n",
    "n = 5 #reservoirs\n",
    "m = 24 #hours\n",
    "s = 3 #scenarios\n",
    "\n",
    "inputs={\n",
    "    'n_r': n,\n",
    "    'n_t': m,\n",
    "    'n_s': s,\n",
    "    'c_tp': np.ones((m, )) * 1 + np.random.rand(m) * 0,\n",
    "    'c_ts': -(np.ones((m, )) * .8 + np.random.rand(m) * 0),\n",
    "    'c_tpd': np.ones((m, )) * 2 + np.random.rand(m) * 0,\n",
    "    'c_tsd': -(np.ones((m )) * .4 + np.random.rand(m) * 0),\n",
    "    'y_e': np.ones((m, s)) * 1 + np.random.rand(m,s) * .1,\n",
    "    'y_f': np.ones((m, n, s)) * .1 + np.random.rand(m,n,s) * .01,\n",
    "    'lb': np.ones((n, )) * 5 + np.random.rand(n) * 0,\n",
    "    'ub': np.ones((n, )) * 9 + np.random.rand(n) * 0,\n",
    "    'fs': np.ones((n, )) * 7 + np.random.rand(n) * 0,\n",
    "    'is': np.ones((n, )) * 7 + np.random.rand(n) * 0,\n",
    "    'f_g_min': np.ones((n, )) * 1 + np.random.rand(n) * 0,\n",
    "    'f_g_max': np.ones((n, )) * 2 + np.random.rand(n) * 0,\n",
    "    'f_p_min': np.ones((n, )) * 1 + np.random.rand(n) * 0,\n",
    "    'f_p_max': np.ones((n, )) * 2 + np.random.rand(n) * 0,\n",
    "    'tp_max': 10,\n",
    "    'ts_max': 10,\n",
    "    'tpd_max': 3,\n",
    "    'tsd_max': 3,\n",
    "    'p_s': np.ones((s, )) / s\n",
    "}\n",
    "\n",
    "t0 = time.time()\n",
    "problem = src.optimization.SCHRP(inputs)\n",
    "\n",
    "t1 = time.time()\n",
    "problem.Solve(solver_kwargs)\n",
    "\n",
    "t2 = time.time()\n",
    "\n",
    "print(problem.model.objective(), t1 - t0, t2 - t1)"
   ]
  },
  {
   "cell_type": "code",
   "execution_count": null,
   "id": "81555338-e4a9-4c19-adaf-a6ad34f38c1b",
   "metadata": {},
   "outputs": [],
   "source": []
  }
 ],
 "metadata": {
  "kernelspec": {
   "display_name": "Python 3 (ipykernel)",
   "language": "python",
   "name": "python3"
  },
  "language_info": {
   "codemirror_mode": {
    "name": "ipython",
    "version": 3
   },
   "file_extension": ".py",
   "mimetype": "text/x-python",
   "name": "python",
   "nbconvert_exporter": "python",
   "pygments_lexer": "ipython3",
   "version": "3.11.5"
  }
 },
 "nbformat": 4,
 "nbformat_minor": 5
}
