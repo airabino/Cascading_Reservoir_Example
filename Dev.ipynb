{
 "cells": [
  {
   "cell_type": "code",
   "execution_count": 1,
   "id": "1d24310a-ef7c-4df9-95d0-87fe85b9b87b",
   "metadata": {},
   "outputs": [],
   "source": [
    "import os\n",
    "import time\n",
    "import numpy as np\n",
    "import pandas as pd\n",
    "import pickle as pkl\n",
    "import pyomo.environ as pyomo\n",
    "import matplotlib.pyplot as plt\n",
    "\n",
    "import src\n",
    "from src.reload import deep_reload\n",
    "\n",
    "solver_kwargs={'_name':'cbc','executable':'src/cbc'}"
   ]
  },
  {
   "cell_type": "code",
   "execution_count": 7,
   "id": "17940a39-d741-46cb-895e-ebfa646a367b",
   "metadata": {
    "tags": []
   },
   "outputs": [
    {
     "name": "stdout",
     "output_type": "stream",
     "text": [
      "Optimal Blend\n",
      "   A : 37.5 gallons\n",
      "   B : 62.5 gallons\n",
      "   W : 0.0 gallons\n",
      "\n",
      "Volume =  100.0 gallons\n",
      "Cost = $ 27.625\n"
     ]
    }
   ],
   "source": [
    "deep_reload(src)\n",
    "\n",
    "vol=100\n",
    "abv=0.04\n",
    "\n",
    "#Data on blending constituents\n",
    "data={\n",
    "'A':{'abv':0.045,'cost':0.32},\n",
    "'B':{'abv':0.037,'cost':0.25},\n",
    "'W':{'abv':0.000,'cost':0.05},\n",
    "}\n",
    "\n",
    "model=src.optimization.BlendingProblemExample(vol,abv,data,solver_kwargs)\n",
    "\n",
    "print('Optimal Blend')\n",
    "for c in data.keys():\n",
    "    print('  ', c, ':', model.x[c](), 'gallons')\n",
    "print()\n",
    "print('Volume = ', model.volume(), 'gallons')\n",
    "print('Cost = $', model.cost())"
   ]
  },
  {
   "cell_type": "code",
   "execution_count": 94,
   "id": "ff08891a-19b9-4c2e-8947-05082ca0b97d",
   "metadata": {
    "tags": []
   },
   "outputs": [
    {
     "data": {
      "text/plain": [
       "(5, 24)"
      ]
     },
     "execution_count": 94,
     "metadata": {},
     "output_type": "execute_result"
    }
   ],
   "source": [
    "np.tile(inputs['f_g_min'],(m,1)).T.shape"
   ]
  },
  {
   "cell_type": "code",
   "execution_count": 121,
   "id": "01d682e0-033b-495b-b5ae-3297aa2f4b94",
   "metadata": {
    "tags": []
   },
   "outputs": [
    {
     "name": "stdout",
     "output_type": "stream",
     "text": [
      "12.0 0.020090341567993164 0.042853355407714844\n"
     ]
    }
   ],
   "source": [
    "deep_reload(src)\n",
    "'''\n",
    "reservoirs will be said to have around 10 hydro units of capacity\n",
    "reservoir lower bounds will be around 5 hydro units\n",
    "reservoir upper bounds will be around 9 hydro units\n",
    "generator and pump operating ranges will be in the range of 1 to 2 hydro unit per hour\n",
    "generator cost will be around -1 power units per hydro unit per hour\n",
    "generator cost will be around 1.2 power units per hydro unit per hour\n",
    "transmission cost will be 1 for now\n",
    "rainfall will be around .1 hydro units per hour\n",
    "power demand will be around 1 power units per hour\n",
    "'''\n",
    "\n",
    "\n",
    "n=5 #reservoirs\n",
    "m=24 #hours\n",
    "\n",
    "inputs={\n",
    "    'N':n,\n",
    "    'M':m,\n",
    "    'c_g':-(np.ones((n,m))*1+np.random.rand(n,m)*0),\n",
    "    'c_p':np.ones((n,m))*1.2+np.random.rand(n,m)*0,\n",
    "    'c_t':np.ones((m,))*1+np.random.rand(m)*0,\n",
    "    'y_e':np.ones((m,))*1+np.random.rand(m)*0,\n",
    "    'y_f':np.ones((n,m))*.1+np.random.rand(n,m)*0,\n",
    "    'lb':np.ones((n,))*5+np.random.rand(n)*0,\n",
    "    'ub':np.ones((n,))*9+np.random.rand(n)*0,\n",
    "    'fs':np.ones((n,))*7+np.random.rand(n)*0,\n",
    "    'is':np.ones((n,))*7+np.random.rand(n)*0,\n",
    "    'f_g_min':np.ones((n,))*1+np.random.rand(n)*0,\n",
    "    'f_g_max':np.ones((n,))*2+np.random.rand(n)*0,\n",
    "    'f_p_min':np.ones((n,))*1+np.random.rand(n)*0,\n",
    "    'f_p_max':np.ones((n,))*2+np.random.rand(n)*0,\n",
    "    't_max':10,\n",
    "}\n",
    "\n",
    "t0=time.time()\n",
    "model=src.optimization.CHRP(inputs)\n",
    "\n",
    "t1=time.time()\n",
    "solver=pyomo.SolverFactory(**solver_kwargs)\n",
    "solver.solve(model)\n",
    "\n",
    "t2=time.time()\n",
    "\n",
    "print(model.objective(),t1-t0,t2-t1)"
   ]
  },
  {
   "cell_type": "code",
   "execution_count": 115,
   "id": "8107add0-f93c-485d-935c-14c0536d23f8",
   "metadata": {
    "tags": []
   },
   "outputs": [
    {
     "data": {
      "text/plain": [
       "{'_instance': <weakref at 0x7fd0947015d0; to 'ConcreteModel' at 0x7fd0947c27b0>,\n",
       " 'symbol_map': {},\n",
       " 'solutions': [<pyomo.core.base.PyomoModel.ModelSolution at 0x7fd09058ce10>],\n",
       " 'index': 0}"
      ]
     },
     "execution_count": 115,
     "metadata": {},
     "output_type": "execute_result"
    }
   ],
   "source": [
    "model.solutions.__dict__"
   ]
  },
  {
   "cell_type": "code",
   "execution_count": 118,
   "id": "9813b05c-bc65-4207-bb59-756a960421ba",
   "metadata": {
    "tags": []
   },
   "outputs": [
    {
     "name": "stdout",
     "output_type": "stream",
     "text": [
      "objective : Size=1, Index=None, Active=True\n",
      "    Key  : Active : Sense    : Expression\n",
      "    None :   True : minimize : - u_g[0,0] - u_g[0,1] - u_g[0,2] - u_g[0,3] - u_g[0,4] - u_g[0,5] - u_g[0,6] - u_g[0,7] - u_g[0,8] - u_g[0,9] - u_g[0,10] - u_g[0,11] - u_g[0,12] - u_g[0,13] - u_g[0,14] - u_g[0,15] - u_g[0,16] - u_g[0,17] - u_g[0,18] - u_g[0,19] - u_g[0,20] - u_g[0,21] - u_g[0,22] - u_g[0,23] - u_g[1,0] - u_g[1,1] - u_g[1,2] - u_g[1,3] - u_g[1,4] - u_g[1,5] - u_g[1,6] - u_g[1,7] - u_g[1,8] - u_g[1,9] - u_g[1,10] - u_g[1,11] - u_g[1,12] - u_g[1,13] - u_g[1,14] - u_g[1,15] - u_g[1,16] - u_g[1,17] - u_g[1,18] - u_g[1,19] - u_g[1,20] - u_g[1,21] - u_g[1,22] - u_g[1,23] - u_g[2,0] - u_g[2,1] - u_g[2,2] - u_g[2,3] - u_g[2,4] - u_g[2,5] - u_g[2,6] - u_g[2,7] - u_g[2,8] - u_g[2,9] - u_g[2,10] - u_g[2,11] - u_g[2,12] - u_g[2,13] - u_g[2,14] - u_g[2,15] - u_g[2,16] - u_g[2,17] - u_g[2,18] - u_g[2,19] - u_g[2,20] - u_g[2,21] - u_g[2,22] - u_g[2,23] - u_g[3,0] - u_g[3,1] - u_g[3,2] - u_g[3,3] - u_g[3,4] - u_g[3,5] - u_g[3,6] - u_g[3,7] - u_g[3,8] - u_g[3,9] - u_g[3,10] - u_g[3,11] - u_g[3,12] - u_g[3,13] - u_g[3,14] - u_g[3,15] - u_g[3,16] - u_g[3,17] - u_g[3,18] - u_g[3,19] - u_g[3,20] - u_g[3,21] - u_g[3,22] - u_g[3,23] - u_g[4,0] - u_g[4,1] - u_g[4,2] - u_g[4,3] - u_g[4,4] - u_g[4,5] - u_g[4,6] - u_g[4,7] - u_g[4,8] - u_g[4,9] - u_g[4,10] - u_g[4,11] - u_g[4,12] - u_g[4,13] - u_g[4,14] - u_g[4,15] - u_g[4,16] - u_g[4,17] - u_g[4,18] - u_g[4,19] - u_g[4,20] - u_g[4,21] - u_g[4,22] - u_g[4,23] + 1.2*u_p[0,0] + 1.2*u_p[0,1] + 1.2*u_p[0,2] + 1.2*u_p[0,3] + 1.2*u_p[0,4] + 1.2*u_p[0,5] + 1.2*u_p[0,6] + 1.2*u_p[0,7] + 1.2*u_p[0,8] + 1.2*u_p[0,9] + 1.2*u_p[0,10] + 1.2*u_p[0,11] + 1.2*u_p[0,12] + 1.2*u_p[0,13] + 1.2*u_p[0,14] + 1.2*u_p[0,15] + 1.2*u_p[0,16] + 1.2*u_p[0,17] + 1.2*u_p[0,18] + 1.2*u_p[0,19] + 1.2*u_p[0,20] + 1.2*u_p[0,21] + 1.2*u_p[0,22] + 1.2*u_p[0,23] + 1.2*u_p[1,0] + 1.2*u_p[1,1] + 1.2*u_p[1,2] + 1.2*u_p[1,3] + 1.2*u_p[1,4] + 1.2*u_p[1,5] + 1.2*u_p[1,6] + 1.2*u_p[1,7] + 1.2*u_p[1,8] + 1.2*u_p[1,9] + 1.2*u_p[1,10] + 1.2*u_p[1,11] + 1.2*u_p[1,12] + 1.2*u_p[1,13] + 1.2*u_p[1,14] + 1.2*u_p[1,15] + 1.2*u_p[1,16] + 1.2*u_p[1,17] + 1.2*u_p[1,18] + 1.2*u_p[1,19] + 1.2*u_p[1,20] + 1.2*u_p[1,21] + 1.2*u_p[1,22] + 1.2*u_p[1,23] + 1.2*u_p[2,0] + 1.2*u_p[2,1] + 1.2*u_p[2,2] + 1.2*u_p[2,3] + 1.2*u_p[2,4] + 1.2*u_p[2,5] + 1.2*u_p[2,6] + 1.2*u_p[2,7] + 1.2*u_p[2,8] + 1.2*u_p[2,9] + 1.2*u_p[2,10] + 1.2*u_p[2,11] + 1.2*u_p[2,12] + 1.2*u_p[2,13] + 1.2*u_p[2,14] + 1.2*u_p[2,15] + 1.2*u_p[2,16] + 1.2*u_p[2,17] + 1.2*u_p[2,18] + 1.2*u_p[2,19] + 1.2*u_p[2,20] + 1.2*u_p[2,21] + 1.2*u_p[2,22] + 1.2*u_p[2,23] + 1.2*u_p[3,0] + 1.2*u_p[3,1] + 1.2*u_p[3,2] + 1.2*u_p[3,3] + 1.2*u_p[3,4] + 1.2*u_p[3,5] + 1.2*u_p[3,6] + 1.2*u_p[3,7] + 1.2*u_p[3,8] + 1.2*u_p[3,9] + 1.2*u_p[3,10] + 1.2*u_p[3,11] + 1.2*u_p[3,12] + 1.2*u_p[3,13] + 1.2*u_p[3,14] + 1.2*u_p[3,15] + 1.2*u_p[3,16] + 1.2*u_p[3,17] + 1.2*u_p[3,18] + 1.2*u_p[3,19] + 1.2*u_p[3,20] + 1.2*u_p[3,21] + 1.2*u_p[3,22] + 1.2*u_p[3,23] + 1.2*u_p[4,0] + 1.2*u_p[4,1] + 1.2*u_p[4,2] + 1.2*u_p[4,3] + 1.2*u_p[4,4] + 1.2*u_p[4,5] + 1.2*u_p[4,6] + 1.2*u_p[4,7] + 1.2*u_p[4,8] + 1.2*u_p[4,9] + 1.2*u_p[4,10] + 1.2*u_p[4,11] + 1.2*u_p[4,12] + 1.2*u_p[4,13] + 1.2*u_p[4,14] + 1.2*u_p[4,15] + 1.2*u_p[4,16] + 1.2*u_p[4,17] + 1.2*u_p[4,18] + 1.2*u_p[4,19] + 1.2*u_p[4,20] + 1.2*u_p[4,21] + 1.2*u_p[4,22] + 1.2*u_p[4,23] + u_t[0] + u_t[1] + u_t[2] + u_t[3] + u_t[4] + u_t[5] + u_t[6] + u_t[7] + u_t[8] + u_t[9] + u_t[10] + u_t[11] + u_t[12] + u_t[13] + u_t[14] + u_t[15] + u_t[16] + u_t[17] + u_t[18] + u_t[19] + u_t[20] + u_t[21] + u_t[22] + u_t[23]\n"
     ]
    }
   ],
   "source": [
    "model.objective.pprint()"
   ]
  },
  {
   "cell_type": "code",
   "execution_count": 58,
   "id": "17ceb88c-7ce5-4319-a683-4d1d2fc7890f",
   "metadata": {
    "tags": []
   },
   "outputs": [
    {
     "name": "stdout",
     "output_type": "stream",
     "text": [
      "[2]\n"
     ]
    }
   ],
   "source": [
    "a=[1]\n",
    "b=a\n",
    "a[0]+=1\n",
    "print(b)"
   ]
  },
  {
   "cell_type": "code",
   "execution_count": 59,
   "id": "747bf8b9-8b0d-451a-afe5-9c49770e0e47",
   "metadata": {
    "tags": []
   },
   "outputs": [
    {
     "name": "stdout",
     "output_type": "stream",
     "text": [
      "[2]\n"
     ]
    }
   ],
   "source": [
    "a=np.array([1])\n",
    "b=a\n",
    "a[0]+=1\n",
    "print(b)"
   ]
  },
  {
   "cell_type": "code",
   "execution_count": 60,
   "id": "e4020f93-f7de-49b1-931c-67356f97ede0",
   "metadata": {
    "tags": []
   },
   "outputs": [
    {
     "data": {
      "text/plain": [
       "24"
      ]
     },
     "execution_count": 60,
     "metadata": {},
     "output_type": "execute_result"
    }
   ],
   "source": [
    "a=np.ones((24,34))\n",
    "len(a)"
   ]
  },
  {
   "cell_type": "code",
   "execution_count": 68,
   "id": "59c83552-53b1-4cc0-816f-90631472e223",
   "metadata": {
    "tags": []
   },
   "outputs": [
    {
     "name": "stdout",
     "output_type": "stream",
     "text": [
      "  3           0 RESUME                   0\n",
      "\n",
      "  4           2 LOAD_GLOBAL              1 (NULL + list)\n",
      "             14 LOAD_CONST               1 (1)\n",
      "             16 PRECALL                  1\n",
      "             20 CALL                     1\n",
      "             30 RETURN_VALUE\n"
     ]
    }
   ],
   "source": [
    "from dis import dis\n",
    "\n",
    "def fun():\n",
    "    return list(1)\n",
    "dis(fun)"
   ]
  },
  {
   "cell_type": "code",
   "execution_count": 69,
   "id": "4ed649e5-45e0-488c-b11a-59b89297e2d4",
   "metadata": {
    "tags": []
   },
   "outputs": [
    {
     "name": "stdout",
     "output_type": "stream",
     "text": [
      "  3           0 RESUME                   0\n",
      "\n",
      "  4           2 LOAD_CONST               1 (1)\n",
      "              4 BUILD_LIST               1\n",
      "              6 RETURN_VALUE\n"
     ]
    }
   ],
   "source": [
    "from dis import dis\n",
    "\n",
    "def fun():\n",
    "    return [1]\n",
    "dis(fun)"
   ]
  },
  {
   "cell_type": "code",
   "execution_count": null,
   "id": "d3299b16-552e-40f0-ba6a-7e9eab4616bb",
   "metadata": {},
   "outputs": [],
   "source": []
  }
 ],
 "metadata": {
  "kernelspec": {
   "display_name": "Python 3 (ipykernel)",
   "language": "python",
   "name": "python3"
  },
  "language_info": {
   "codemirror_mode": {
    "name": "ipython",
    "version": 3
   },
   "file_extension": ".py",
   "mimetype": "text/x-python",
   "name": "python",
   "nbconvert_exporter": "python",
   "pygments_lexer": "ipython3",
   "version": "3.11.3"
  }
 },
 "nbformat": 4,
 "nbformat_minor": 5
}
