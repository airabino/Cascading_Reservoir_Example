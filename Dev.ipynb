{
 "cells": [
  {
   "cell_type": "code",
   "execution_count": 1,
   "id": "1d24310a-ef7c-4df9-95d0-87fe85b9b87b",
   "metadata": {},
   "outputs": [],
   "source": [
    "import os\n",
    "import time\n",
    "import numpy as np\n",
    "import pandas as pd\n",
    "import pickle as pkl\n",
    "import pyomo.environ as pyomo\n",
    "import matplotlib.pyplot as plt\n",
    "\n",
    "import src\n",
    "from src.reload import deep_reload\n",
    "\n",
    "solver_kwargs={'_name':'cbc','executable':'src/cbc'}"
   ]
  },
  {
   "cell_type": "code",
   "execution_count": 7,
   "id": "17940a39-d741-46cb-895e-ebfa646a367b",
   "metadata": {
    "tags": []
   },
   "outputs": [
    {
     "name": "stdout",
     "output_type": "stream",
     "text": [
      "Optimal Blend\n",
      "   A : 37.5 gallons\n",
      "   B : 62.5 gallons\n",
      "   W : 0.0 gallons\n",
      "\n",
      "Volume =  100.0 gallons\n",
      "Cost = $ 27.625\n"
     ]
    }
   ],
   "source": [
    "deep_reload(src)\n",
    "\n",
    "vol=100\n",
    "abv=0.04\n",
    "\n",
    "#Data on blending constituents\n",
    "data={\n",
    "'A':{'abv':0.045,'cost':0.32},\n",
    "'B':{'abv':0.037,'cost':0.25},\n",
    "'W':{'abv':0.000,'cost':0.05},\n",
    "}\n",
    "\n",
    "model=src.optimization.BlendingProblemExample(vol,abv,data,solver_kwargs)\n",
    "\n",
    "print('Optimal Blend')\n",
    "for c in data.keys():\n",
    "    print('  ', c, ':', model.x[c](), 'gallons')\n",
    "print()\n",
    "print('Volume = ', model.volume(), 'gallons')\n",
    "print('Cost = $', model.cost())"
   ]
  },
  {
   "cell_type": "code",
   "execution_count": 94,
   "id": "ff08891a-19b9-4c2e-8947-05082ca0b97d",
   "metadata": {
    "tags": []
   },
   "outputs": [
    {
     "data": {
      "text/plain": [
       "(5, 24)"
      ]
     },
     "execution_count": 94,
     "metadata": {},
     "output_type": "execute_result"
    }
   ],
   "source": [
    "np.tile(inputs['f_g_min'],(m,1)).T.shape"
   ]
  },
  {
   "cell_type": "code",
   "execution_count": 129,
   "id": "01d682e0-033b-495b-b5ae-3297aa2f4b94",
   "metadata": {
    "tags": []
   },
   "outputs": [
    {
     "name": "stdout",
     "output_type": "stream",
     "text": [
      "24.0 0.01973128318786621 0.04637336730957031\n"
     ]
    }
   ],
   "source": [
    "deep_reload(src)\n",
    "'''\n",
    "reservoirs will be said to have around 10 hydro units of capacity\n",
    "reservoir lower bounds will be around 5 hydro units\n",
    "reservoir upper bounds will be around 9 hydro units\n",
    "generator and pump operating ranges will be in the range of 1 to 2 hydro unit per hour\n",
    "generator cost will be around -1 power units per hydro unit per hour\n",
    "generator cost will be around 1.2 power units per hydro unit per hour\n",
    "transmission cost will be 1 for now\n",
    "rainfall will be around .1 hydro units per hour\n",
    "power demand will be around 1 power units per hour\n",
    "'''\n",
    "\n",
    "\n",
    "n=5 #reservoirs\n",
    "m=24 #hours\n",
    "\n",
    "inputs={\n",
    "    'N':n,\n",
    "    'M':m,\n",
    "    'c_g':-(np.ones((n,m))*1+np.random.rand(n,m)*0),\n",
    "    'c_p':np.ones((n,m))*1.2+np.random.rand(n,m)*0,\n",
    "    'c_tp':np.ones((m,))*1+np.random.rand(m)*0,\n",
    "    'c_ts':-(np.ones((m,))*.8+np.random.rand(m)*0),\n",
    "    'y_e':np.ones((m,))*1+np.random.rand(m)*0,\n",
    "    'y_f':np.ones((n,m))*.5+np.random.rand(n,m)*0,\n",
    "    'lb':np.ones((n,))*5+np.random.rand(n)*0,\n",
    "    'ub':np.ones((n,))*9+np.random.rand(n)*0,\n",
    "    'fs':np.ones((n,))*7+np.random.rand(n)*0,\n",
    "    'is':np.ones((n,))*7+np.random.rand(n)*0,\n",
    "    'f_g_min':np.ones((n,))*1+np.random.rand(n)*0,\n",
    "    'f_g_max':np.ones((n,))*2+np.random.rand(n)*0,\n",
    "    'f_p_min':np.ones((n,))*1+np.random.rand(n)*0,\n",
    "    'f_p_max':np.ones((n,))*2+np.random.rand(n)*0,\n",
    "    'tp_max':10,\n",
    "    'ts_max':10,\n",
    "}\n",
    "\n",
    "t0=time.time()\n",
    "model=src.optimization.CHRP(inputs)\n",
    "\n",
    "t1=time.time()\n",
    "solver=pyomo.SolverFactory(**solver_kwargs)\n",
    "solver.solve(model)\n",
    "\n",
    "t2=time.time()\n",
    "\n",
    "print(model.objective(),t1-t0,t2-t1)"
   ]
  },
  {
   "cell_type": "code",
   "execution_count": 115,
   "id": "8107add0-f93c-485d-935c-14c0536d23f8",
   "metadata": {
    "tags": []
   },
   "outputs": [
    {
     "data": {
      "text/plain": [
       "{'_instance': <weakref at 0x7fd0947015d0; to 'ConcreteModel' at 0x7fd0947c27b0>,\n",
       " 'symbol_map': {},\n",
       " 'solutions': [<pyomo.core.base.PyomoModel.ModelSolution at 0x7fd09058ce10>],\n",
       " 'index': 0}"
      ]
     },
     "execution_count": 115,
     "metadata": {},
     "output_type": "execute_result"
    }
   ],
   "source": [
    "model.solutions.__dict__"
   ]
  },
  {
   "cell_type": "code",
   "execution_count": 128,
   "id": "9813b05c-bc65-4207-bb59-756a960421ba",
   "metadata": {
    "tags": []
   },
   "outputs": [
    {
     "name": "stdout",
     "output_type": "stream",
     "text": [
      "u_tp : Size=24, Index=T\n",
      "    Key : Lower : Value : Upper : Fixed : Stale : Domain\n",
      "      0 :     0 :   0.0 :    10 : False : False :  Reals\n",
      "      1 :     0 :   0.0 :    10 : False : False :  Reals\n",
      "      2 :     0 :  10.0 :    10 : False : False :  Reals\n",
      "      3 :     0 :  10.0 :    10 : False : False :  Reals\n",
      "      4 :     0 :   0.0 :    10 : False : False :  Reals\n",
      "      5 :     0 :   0.0 :    10 : False : False :  Reals\n",
      "      6 :     0 :   0.0 :    10 : False : False :  Reals\n",
      "      7 :     0 :   0.0 :    10 : False : False :  Reals\n",
      "      8 :     0 :   0.0 :    10 : False : False :  Reals\n",
      "      9 :     0 :   0.0 :    10 : False : False :  Reals\n",
      "     10 :     0 :   0.0 :    10 : False : False :  Reals\n",
      "     11 :     0 :   0.0 :    10 : False : False :  Reals\n",
      "     12 :     0 :   0.0 :    10 : False : False :  Reals\n",
      "     13 :     0 :   0.0 :    10 : False : False :  Reals\n",
      "     14 :     0 :   0.0 :    10 : False : False :  Reals\n",
      "     15 :     0 :   0.0 :    10 : False : False :  Reals\n",
      "     16 :     0 :   0.0 :    10 : False : False :  Reals\n",
      "     17 :     0 :   0.0 :    10 : False : False :  Reals\n",
      "     18 :     0 :   0.0 :    10 : False : False :  Reals\n",
      "     19 :     0 :   0.0 :    10 : False : False :  Reals\n",
      "     20 :     0 :   0.0 :    10 : False : False :  Reals\n",
      "     21 :     0 :   0.0 :    10 : False : False :  Reals\n",
      "     22 :     0 :   0.0 :    10 : False : False :  Reals\n",
      "     23 :     0 :   4.0 :    10 : False : False :  Reals\n"
     ]
    }
   ],
   "source": [
    "model.u_tp.pprint()"
   ]
  },
  {
   "cell_type": "code",
   "execution_count": 58,
   "id": "17ceb88c-7ce5-4319-a683-4d1d2fc7890f",
   "metadata": {
    "tags": []
   },
   "outputs": [
    {
     "name": "stdout",
     "output_type": "stream",
     "text": [
      "[2]\n"
     ]
    }
   ],
   "source": [
    "a=[1]\n",
    "b=a\n",
    "a[0]+=1\n",
    "print(b)"
   ]
  },
  {
   "cell_type": "code",
   "execution_count": 59,
   "id": "747bf8b9-8b0d-451a-afe5-9c49770e0e47",
   "metadata": {
    "tags": []
   },
   "outputs": [
    {
     "name": "stdout",
     "output_type": "stream",
     "text": [
      "[2]\n"
     ]
    }
   ],
   "source": [
    "a=np.array([1])\n",
    "b=a\n",
    "a[0]+=1\n",
    "print(b)"
   ]
  },
  {
   "cell_type": "code",
   "execution_count": 60,
   "id": "e4020f93-f7de-49b1-931c-67356f97ede0",
   "metadata": {
    "tags": []
   },
   "outputs": [
    {
     "data": {
      "text/plain": [
       "24"
      ]
     },
     "execution_count": 60,
     "metadata": {},
     "output_type": "execute_result"
    }
   ],
   "source": [
    "a=np.ones((24,34))\n",
    "len(a)"
   ]
  },
  {
   "cell_type": "code",
   "execution_count": 68,
   "id": "59c83552-53b1-4cc0-816f-90631472e223",
   "metadata": {
    "tags": []
   },
   "outputs": [
    {
     "name": "stdout",
     "output_type": "stream",
     "text": [
      "  3           0 RESUME                   0\n",
      "\n",
      "  4           2 LOAD_GLOBAL              1 (NULL + list)\n",
      "             14 LOAD_CONST               1 (1)\n",
      "             16 PRECALL                  1\n",
      "             20 CALL                     1\n",
      "             30 RETURN_VALUE\n"
     ]
    }
   ],
   "source": [
    "from dis import dis\n",
    "\n",
    "def fun():\n",
    "    return list(1)\n",
    "dis(fun)"
   ]
  },
  {
   "cell_type": "code",
   "execution_count": 69,
   "id": "4ed649e5-45e0-488c-b11a-59b89297e2d4",
   "metadata": {
    "tags": []
   },
   "outputs": [
    {
     "name": "stdout",
     "output_type": "stream",
     "text": [
      "  3           0 RESUME                   0\n",
      "\n",
      "  4           2 LOAD_CONST               1 (1)\n",
      "              4 BUILD_LIST               1\n",
      "              6 RETURN_VALUE\n"
     ]
    }
   ],
   "source": [
    "from dis import dis\n",
    "\n",
    "def fun():\n",
    "    return [1]\n",
    "dis(fun)"
   ]
  },
  {
   "cell_type": "code",
   "execution_count": null,
   "id": "d3299b16-552e-40f0-ba6a-7e9eab4616bb",
   "metadata": {},
   "outputs": [],
   "source": []
  }
 ],
 "metadata": {
  "kernelspec": {
   "display_name": "Python 3 (ipykernel)",
   "language": "python",
   "name": "python3"
  },
  "language_info": {
   "codemirror_mode": {
    "name": "ipython",
    "version": 3
   },
   "file_extension": ".py",
   "mimetype": "text/x-python",
   "name": "python",
   "nbconvert_exporter": "python",
   "pygments_lexer": "ipython3",
   "version": "3.11.3"
  }
 },
 "nbformat": 4,
 "nbformat_minor": 5
}
